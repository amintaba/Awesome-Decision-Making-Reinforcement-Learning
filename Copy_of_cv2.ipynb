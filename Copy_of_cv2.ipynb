{
  "nbformat": 4,
  "nbformat_minor": 0,
  "metadata": {
    "colab": {
      "name": "Copy of cv2.ipynb",
      "private_outputs": true,
      "provenance": [],
      "collapsed_sections": [],
      "mount_file_id": "1wQpoXz6l51Z059oK-MrtOsIx_z6wAlSj",
      "authorship_tag": "ABX9TyPKY+PPbXc2ZowR9WNI6+cH",
      "include_colab_link": true
    },
    "kernelspec": {
      "name": "python3",
      "display_name": "Python 3"
    },
    "language_info": {
      "name": "python"
    }
  },
  "cells": [
    {
      "cell_type": "markdown",
      "metadata": {
        "id": "view-in-github",
        "colab_type": "text"
      },
      "source": [
        "<a href=\"https://colab.research.google.com/github/amintaba/Awesome-Decision-Making-Reinforcement-Learning/blob/master/Copy_of_cv2.ipynb\" target=\"_parent\"><img src=\"https://colab.research.google.com/assets/colab-badge.svg\" alt=\"Open In Colab\"/></a>"
      ]
    },
    {
      "cell_type": "code",
      "source": [
        "import cv2 \n",
        "import numpy as np\n",
        "\n",
        "def canny(image):\n",
        "  gray = cv2.cvtColor(lane_image , cv2.COLOR_RGB2BGR)\n",
        "  blur = cv2.GaussianBlur(gray, (5,5),0)\n",
        "  canny = cv2.Canny(blur, 50, 150)\n",
        "  return canny\n",
        "\n",
        "def display_lines(image, lines):\n",
        "  line_image = np.zeros_like(image) \n",
        "  if lines is not None:\n",
        "    for line in lines:\n",
        "      x1, y1, x2, y2 = line.reshape(4)\n",
        "      cv2.line(line_image, (x1, y1), (x2, y2), (255, 0 , 0), 10)\n",
        "  return line_image    \n",
        "\n",
        "def region_of_interest(image):\n",
        "  height = image.shape[0]\n",
        "  polygons = np.array([(\n",
        "      [(200 , height), (1100, height) , (550 , 250)])\n",
        "  ])\n",
        "  mask = np.zeros_like(image)\n",
        "  cv2.fillPoly(mask, polygons, 255)\n",
        "  masked_image = cv2.bitwise_and(image, mask)\n",
        "  return masked_image\n",
        "\n",
        "image = cv2.imread('/content/sample_data/test_image.jpg')\n",
        "print(image.shape)\n",
        "lane_image = np.copy(image)\n",
        "canny = canny(lane_image)\n",
        "cropped_image = region_of_interest(canny)\n",
        "lines = cv2.HoughLinesP(cropped_image, 2, np.pi/180 ,100 , np.array([]), minLineLength = 40, maxLineGap=5)\n",
        "print(lines)\n",
        "line_image = display_lines(lane_image, lines)\n",
        "combo_image = cv2.addWeighted(lane_image , 0.8, line_image , 1, 1 )\n",
        "line_image = display_Lines(lane_image, lines)\n",
        "cv2.imwrite('seve_image.png',combo_image)"
      ],
      "metadata": {
        "id": "V0oPUny8nNpy"
      },
      "execution_count": null,
      "outputs": []
    }
  ]
}